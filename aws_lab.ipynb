{
 "cells": [
  {
   "cell_type": "markdown",
   "id": "45f35f4c",
   "metadata": {},
   "source": [
    "# AWS Lab Automation\n",
    "\n",
    "By Gion Rubitschung (student16)\n",
    "\n",
    "# Import Section"
   ]
  },
  {
   "cell_type": "code",
   "execution_count": null,
   "id": "23b04fc1",
   "metadata": {},
   "outputs": [],
   "source": [
    "import json\n",
    "import boto3\n",
    "import re"
   ]
  },
  {
   "cell_type": "markdown",
   "id": "e922496f",
   "metadata": {},
   "source": [
    "# Configuration and setup"
   ]
  },
  {
   "cell_type": "code",
   "execution_count": 2,
   "id": "4a63441a",
   "metadata": {},
   "outputs": [],
   "source": [
    "PROFILE = \"student16\"\n",
    "REGION = \"eu-central-1\"\n",
    "STUDENT_ID = \"student16\"\n",
    "\n",
    "GENERATE_FILE_LAMBDA = \"GenerateStudentFile\"\n",
    "GENERATE_HASH_LAMBDA = \"GenerateHash\"\n",
    "S3_BUCKET = \"bfh-student-task-bucket\"\n",
    "DYNAMO_TABLE = \"bfh-student-results\""
   ]
  },
  {
   "cell_type": "code",
   "execution_count": 3,
   "id": "7d2979c3",
   "metadata": {},
   "outputs": [],
   "source": [
    "session = boto3.Session(profile_name=PROFILE)\n",
    "lambda_client = session.client(\"lambda\")\n",
    "s3_client = session.client(\"s3\")\n",
    "dynamo_client = session.client(\"dynamodb\")"
   ]
  },
  {
   "cell_type": "markdown",
   "id": "ef149969",
   "metadata": {},
   "source": [
    "# Generate student file and get the file path"
   ]
  },
  {
   "cell_type": "code",
   "execution_count": 4,
   "id": "db39f84e",
   "metadata": {},
   "outputs": [
    {
     "data": {
      "text/plain": [
       "{'ResponseMetadata': {'RequestId': 'ebccf925-b92b-4aab-be90-0854ac0779f6',\n",
       "  'HTTPStatusCode': 200,\n",
       "  'HTTPHeaders': {'date': 'Mon, 28 Apr 2025 11:28:07 GMT',\n",
       "   'content-type': 'application/json',\n",
       "   'content-length': '114',\n",
       "   'connection': 'keep-alive',\n",
       "   'x-amzn-requestid': 'ebccf925-b92b-4aab-be90-0854ac0779f6',\n",
       "   'x-amzn-remapped-content-length': '0',\n",
       "   'x-amz-executed-version': '$LATEST',\n",
       "   'x-amzn-trace-id': 'Root=1-680f6646-3a9ff42771208e043eba5e82;Parent=5b2b2e130cfc5bd3;Sampled=0;Lineage=1:7f98cead:0'},\n",
       "  'RetryAttempts': 0},\n",
       " 'StatusCode': 200,\n",
       " 'ExecutedVersion': '$LATEST',\n",
       " 'Payload': <botocore.response.StreamingBody at 0x107984b80>}"
      ]
     },
     "execution_count": 4,
     "metadata": {},
     "output_type": "execute_result"
    }
   ],
   "source": [
    "payload = {\"student_id\": STUDENT_ID}\n",
    "response = lambda_client.invoke(\n",
    "    FunctionName=GENERATE_FILE_LAMBDA,\n",
    "    Payload=json.dumps(payload).encode(),\n",
    ")\n",
    "response"
   ]
  },
  {
   "cell_type": "code",
   "execution_count": 5,
   "id": "27f2f5f5",
   "metadata": {},
   "outputs": [
    {
     "data": {
      "text/plain": [
       "{'message': 'File created', 'file_key': 'incoming/student16/student16.txt'}"
      ]
     },
     "execution_count": 5,
     "metadata": {},
     "output_type": "execute_result"
    }
   ],
   "source": [
    "payload_response = response[\"Payload\"].read().decode(\"utf-8\")\n",
    "body = json.loads(json.loads(payload_response)[\"body\"])\n",
    "body"
   ]
  },
  {
   "cell_type": "code",
   "execution_count": 6,
   "id": "70dc112e",
   "metadata": {},
   "outputs": [
    {
     "data": {
      "text/plain": [
       "'incoming/student16/student16.txt'"
      ]
     },
     "execution_count": 6,
     "metadata": {},
     "output_type": "execute_result"
    }
   ],
   "source": [
    "file_path = body[\"file_key\"]\n",
    "file_path"
   ]
  },
  {
   "cell_type": "markdown",
   "id": "c40ae5be",
   "metadata": {},
   "source": [
    "# Download the student file and retrieve the secret number"
   ]
  },
  {
   "cell_type": "code",
   "execution_count": 7,
   "id": "76d392a8",
   "metadata": {},
   "outputs": [
    {
     "data": {
      "text/plain": [
       "{'ResponseMetadata': {'RequestId': '5XFSR6RYG6068TMR',\n",
       "  'HostId': 'n65wiIDtip0voGWiQwSUWbF5/5QdokZJkDTcVK2wMbMc4TM2r8VN1eco4tyvAB4bSKHqQvA8SCRpWnxecyDs48d8ToiTPLhAkDTYjlr+RFY=',\n",
       "  'HTTPStatusCode': 200,\n",
       "  'HTTPHeaders': {'x-amz-id-2': 'n65wiIDtip0voGWiQwSUWbF5/5QdokZJkDTcVK2wMbMc4TM2r8VN1eco4tyvAB4bSKHqQvA8SCRpWnxecyDs48d8ToiTPLhAkDTYjlr+RFY=',\n",
       "   'x-amz-request-id': '5XFSR6RYG6068TMR',\n",
       "   'date': 'Mon, 28 Apr 2025 11:28:08 GMT',\n",
       "   'last-modified': 'Mon, 28 Apr 2025 11:28:08 GMT',\n",
       "   'etag': '\"e6eaefbc49d4c4195151afb0a96d1a19\"',\n",
       "   'x-amz-checksum-crc64nvme': 'locZ4nwvgS0=',\n",
       "   'x-amz-checksum-type': 'FULL_OBJECT',\n",
       "   'x-amz-server-side-encryption': 'AES256',\n",
       "   'accept-ranges': 'bytes',\n",
       "   'content-type': 'text/plain',\n",
       "   'content-length': '40',\n",
       "   'server': 'AmazonS3'},\n",
       "  'RetryAttempts': 0},\n",
       " 'AcceptRanges': 'bytes',\n",
       " 'LastModified': datetime.datetime(2025, 4, 28, 11, 28, 8, tzinfo=tzutc()),\n",
       " 'ContentLength': 40,\n",
       " 'ETag': '\"e6eaefbc49d4c4195151afb0a96d1a19\"',\n",
       " 'ChecksumCRC64NVME': 'locZ4nwvgS0=',\n",
       " 'ChecksumType': 'FULL_OBJECT',\n",
       " 'ContentType': 'text/plain',\n",
       " 'ServerSideEncryption': 'AES256',\n",
       " 'Metadata': {},\n",
       " 'Body': <botocore.response.StreamingBody at 0x107a58490>}"
      ]
     },
     "execution_count": 7,
     "metadata": {},
     "output_type": "execute_result"
    }
   ],
   "source": [
    "obj = s3_client.get_object(Bucket=S3_BUCKET, Key=file_path)\n",
    "obj"
   ]
  },
  {
   "cell_type": "code",
   "execution_count": 8,
   "id": "4d53c837",
   "metadata": {},
   "outputs": [
    {
     "data": {
      "text/plain": [
       "'Student ID: student16\\nYour Number: 9794'"
      ]
     },
     "execution_count": 8,
     "metadata": {},
     "output_type": "execute_result"
    }
   ],
   "source": [
    "student_file = obj[\"Body\"].read().decode().strip()\n",
    "student_file"
   ]
  },
  {
   "cell_type": "code",
   "execution_count": 9,
   "id": "cd31653f",
   "metadata": {},
   "outputs": [
    {
     "data": {
      "text/plain": [
       "'9794'"
      ]
     },
     "execution_count": 9,
     "metadata": {},
     "output_type": "execute_result"
    }
   ],
   "source": [
    "pattern = r\"Your Number: (\\d+)\"\n",
    "match = re.search(pattern, student_file)\n",
    "secret_number = match.group(1)\n",
    "secret_number"
   ]
  },
  {
   "cell_type": "markdown",
   "id": "3953fa54",
   "metadata": {},
   "source": [
    "# Generate the student hash"
   ]
  },
  {
   "cell_type": "code",
   "execution_count": 10,
   "id": "3972afec",
   "metadata": {},
   "outputs": [
    {
     "data": {
      "text/plain": [
       "{'ResponseMetadata': {'RequestId': '044b1814-2109-47c5-b68e-fbea78f49e35',\n",
       "  'HTTPStatusCode': 200,\n",
       "  'HTTPHeaders': {'date': 'Mon, 28 Apr 2025 11:28:09 GMT',\n",
       "   'content-type': 'application/json',\n",
       "   'content-length': '83',\n",
       "   'connection': 'keep-alive',\n",
       "   'x-amzn-requestid': '044b1814-2109-47c5-b68e-fbea78f49e35',\n",
       "   'x-amzn-remapped-content-length': '0',\n",
       "   'x-amz-executed-version': '$LATEST',\n",
       "   'x-amzn-trace-id': 'Root=1-680f6648-7756e75e48403d1f53da5ec2;Parent=385dcdf130c0a494;Sampled=0;Lineage=1:5e4bfffb:0'},\n",
       "  'RetryAttempts': 0},\n",
       " 'StatusCode': 200,\n",
       " 'ExecutedVersion': '$LATEST',\n",
       " 'Payload': <botocore.response.StreamingBody at 0x107a582b0>}"
      ]
     },
     "execution_count": 10,
     "metadata": {},
     "output_type": "execute_result"
    }
   ],
   "source": [
    "payload = {\"student_id\": STUDENT_ID, \"number\": secret_number}\n",
    "response = lambda_client.invoke(\n",
    "    FunctionName=GENERATE_HASH_LAMBDA,\n",
    "    Payload=json.dumps(payload).encode(),\n",
    ")\n",
    "response"
   ]
  },
  {
   "cell_type": "code",
   "execution_count": 11,
   "id": "c0d21a87",
   "metadata": {},
   "outputs": [
    {
     "data": {
      "text/plain": [
       "{'md5_hash': 'd97774cbf0f97388141a5e7b57454fa0'}"
      ]
     },
     "execution_count": 11,
     "metadata": {},
     "output_type": "execute_result"
    }
   ],
   "source": [
    "payload_response = response[\"Payload\"].read().decode(\"utf-8\")\n",
    "body = json.loads(json.loads(payload_response)[\"body\"])\n",
    "body"
   ]
  },
  {
   "cell_type": "code",
   "execution_count": 12,
   "id": "b4b7c5b8",
   "metadata": {},
   "outputs": [
    {
     "data": {
      "text/plain": [
       "'d97774cbf0f97388141a5e7b57454fa0'"
      ]
     },
     "execution_count": 12,
     "metadata": {},
     "output_type": "execute_result"
    }
   ],
   "source": [
    "md5_hash = body[\"md5_hash\"]\n",
    "md5_hash"
   ]
  },
  {
   "cell_type": "markdown",
   "id": "7cd9cdc3",
   "metadata": {},
   "source": [
    "# Create the student file with the obtained hash"
   ]
  },
  {
   "cell_type": "code",
   "execution_count": 13,
   "id": "bf71bea6",
   "metadata": {},
   "outputs": [
    {
     "data": {
      "text/plain": [
       "{'ResponseMetadata': {'RequestId': 'FFAYAB517TNFNPK7',\n",
       "  'HostId': 'RLAGpKT/qW9F3nOlio/7USzhRMTMlH1WQh6XyVMf9tpyLYnbsdpHO9qJ5EugMMX46YgA46ea0xWKUg4tftfh0Xc5hV4S5FS9SZhXCkotY1M=',\n",
       "  'HTTPStatusCode': 200,\n",
       "  'HTTPHeaders': {'x-amz-id-2': 'RLAGpKT/qW9F3nOlio/7USzhRMTMlH1WQh6XyVMf9tpyLYnbsdpHO9qJ5EugMMX46YgA46ea0xWKUg4tftfh0Xc5hV4S5FS9SZhXCkotY1M=',\n",
       "   'x-amz-request-id': 'FFAYAB517TNFNPK7',\n",
       "   'date': 'Mon, 28 Apr 2025 11:28:10 GMT',\n",
       "   'x-amz-server-side-encryption': 'AES256',\n",
       "   'etag': '\"dd0f122ac1d2a3a1ac407f32ff63f4f0\"',\n",
       "   'x-amz-checksum-crc32': 'JFr0yQ==',\n",
       "   'x-amz-checksum-type': 'FULL_OBJECT',\n",
       "   'content-length': '0',\n",
       "   'server': 'AmazonS3'},\n",
       "  'RetryAttempts': 0},\n",
       " 'ETag': '\"dd0f122ac1d2a3a1ac407f32ff63f4f0\"',\n",
       " 'ChecksumCRC32': 'JFr0yQ==',\n",
       " 'ChecksumType': 'FULL_OBJECT',\n",
       " 'ServerSideEncryption': 'AES256'}"
      ]
     },
     "execution_count": 13,
     "metadata": {},
     "output_type": "execute_result"
    }
   ],
   "source": [
    "key = f\"hash/{STUDENT_ID}/{STUDENT_ID}_hash.txt\"\n",
    "s3_client.put_object(Bucket=S3_BUCKET, Key=key, Body=md5_hash.encode())"
   ]
  },
  {
   "cell_type": "markdown",
   "id": "93f94efe",
   "metadata": {},
   "source": [
    "# Insert the hash into dynamodb and verify it exists"
   ]
  },
  {
   "cell_type": "code",
   "execution_count": 14,
   "id": "d7f34ee5",
   "metadata": {},
   "outputs": [
    {
     "data": {
      "text/plain": [
       "{'ResponseMetadata': {'RequestId': 'RBUI177UVE990OMVJGN72TM3MNVV4KQNSO5AEMVJF66Q9ASUAAJG',\n",
       "  'HTTPStatusCode': 200,\n",
       "  'HTTPHeaders': {'server': 'Server',\n",
       "   'date': 'Mon, 28 Apr 2025 11:28:09 GMT',\n",
       "   'content-type': 'application/x-amz-json-1.0',\n",
       "   'content-length': '2',\n",
       "   'connection': 'keep-alive',\n",
       "   'x-amzn-requestid': 'RBUI177UVE990OMVJGN72TM3MNVV4KQNSO5AEMVJF66Q9ASUAAJG',\n",
       "   'x-amz-crc32': '2745614147'},\n",
       "  'RetryAttempts': 0}}"
      ]
     },
     "execution_count": 14,
     "metadata": {},
     "output_type": "execute_result"
    }
   ],
   "source": [
    "dynamo_client.put_item(\n",
    "    TableName=DYNAMO_TABLE,\n",
    "    Item={\n",
    "        \"student_id\": {\"S\": STUDENT_ID},\n",
    "        \"md5_hash\": {\"S\": md5_hash},\n",
    "    },\n",
    ")"
   ]
  },
  {
   "cell_type": "code",
   "execution_count": 15,
   "id": "1f9c52ff",
   "metadata": {},
   "outputs": [
    {
     "data": {
      "text/plain": [
       "{'md5_hash': {'S': 'd97774cbf0f97388141a5e7b57454fa0'},\n",
       " 'student_id': {'S': 'student16'}}"
      ]
     },
     "execution_count": 15,
     "metadata": {},
     "output_type": "execute_result"
    }
   ],
   "source": [
    "dynamo_client.get_item(\n",
    "    TableName=DYNAMO_TABLE,\n",
    "    Key={\n",
    "        'student_id': {'S': STUDENT_ID}\n",
    "    }\n",
    ").get(\"Item\")"
   ]
  }
 ],
 "metadata": {
  "kernelspec": {
   "display_name": ".venv",
   "language": "python",
   "name": "python3"
  },
  "language_info": {
   "codemirror_mode": {
    "name": "ipython",
    "version": 3
   },
   "file_extension": ".py",
   "mimetype": "text/x-python",
   "name": "python",
   "nbconvert_exporter": "python",
   "pygments_lexer": "ipython3",
   "version": "3.10.15"
  }
 },
 "nbformat": 4,
 "nbformat_minor": 5
}
